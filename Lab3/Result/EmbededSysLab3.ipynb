{
 "cells": [
  {
   "cell_type": "code",
   "execution_count": null,
   "id": "c534d635",
   "metadata": {},
   "outputs": [],
   "source": [
    "# !pip install pandas\n",
    "# !pip install matplotlib\n",
    "# !pip install numpy"
   ]
  },
  {
   "cell_type": "code",
   "execution_count": null,
   "id": "9d28a13e",
   "metadata": {},
   "outputs": [],
   "source": [
    "import pandas as pd\n",
    "import numpy as np\n",
    "import matplotlib.pyplot as plt"
   ]
  },
  {
   "cell_type": "markdown",
   "id": "a3a029f9",
   "metadata": {},
   "source": [
    "## Preemtive With TimeSlicing"
   ]
  },
  {
   "cell_type": "code",
   "execution_count": null,
   "id": "8bca359c",
   "metadata": {},
   "outputs": [],
   "source": [
    "f = open(\"data\\data1.txt\", \"r\") #preemtive with timeslicing\n",
    "data = list(f.read())\n",
    "df = pd.DataFrame({\n",
    "    'data': data,\n",
    "})\n",
    "df.replace(['x','y','z'], [1,2,3], inplace=True)\n",
    "plt.gca().set_yticks([1,2,3])\n",
    "plt.gca().set_yticklabels(['task1', 'task2', 'task3'])\n",
    "plt.plot(df['data'])\n",
    "plt.show()"
   ]
  },
  {
   "cell_type": "markdown",
   "id": "af7a6b86",
   "metadata": {},
   "source": [
    "## Preemtive Without TimeSlicing"
   ]
  },
  {
   "cell_type": "code",
   "execution_count": null,
   "id": "c92b7aae",
   "metadata": {},
   "outputs": [],
   "source": [
    "f = open(\"data\\data2.txt\", \"r\")  #preemtive without timeslicing\n",
    "data = list(f.read())\n",
    "df = pd.DataFrame({\n",
    "    'data': data,\n",
    "})\n",
    "df.replace(['x','y','z'], [1,2,3], inplace=True)\n",
    "plt.gca().set_yticks([1,2,3])\n",
    "plt.gca().set_yticklabels(['task1', 'task2', 'task3'])\n",
    "plt.plot(df['data'])\n",
    "plt.show()"
   ]
  },
  {
   "cell_type": "markdown",
   "id": "04c6c130",
   "metadata": {},
   "source": [
    "## Cooperative"
   ]
  },
  {
   "cell_type": "code",
   "execution_count": null,
   "id": "ce486d37",
   "metadata": {},
   "outputs": [],
   "source": [
    "f = open(\"data\\data3.txt\", \"r\")  #cooperate with timeslicing\n",
    "data = list(f.read())\n",
    "df = pd.DataFrame({\n",
    "    'data': data,\n",
    "})\n",
    "df.replace(['x','y','z'], [1,2,3], inplace=True)\n",
    "plt.gca().set_yticks([1,2,3])\n",
    "plt.gca().set_yticklabels(['task1', 'task2', 'task3'])\n",
    "plt.plot(df['data'])\n",
    "plt.show()"
   ]
  }
 ],
 "metadata": {
  "kernelspec": {
   "display_name": "Python 3 (ipykernel)",
   "language": "python",
   "name": "python3"
  },
  "language_info": {
   "codemirror_mode": {
    "name": "ipython",
    "version": 3
   },
   "file_extension": ".py",
   "mimetype": "text/x-python",
   "name": "python",
   "nbconvert_exporter": "python",
   "pygments_lexer": "ipython3",
   "version": "3.9.13"
  }
 },
 "nbformat": 4,
 "nbformat_minor": 5
}
